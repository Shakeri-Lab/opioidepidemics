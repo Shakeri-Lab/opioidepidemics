{
 "cells": [
  {
   "cell_type": "markdown",
   "id": "b85fca77-2d9d-4929-8a72-b7ff82cc8610",
   "metadata": {},
   "source": [
    "# VDH Data Preprocessing\n",
    "\n",
    "#### Evan Mitchell (etm8fs)\n",
    "#### Last update: 05/24/2022"
   ]
  },
  {
   "cell_type": "code",
   "execution_count": 2,
   "id": "ecb981b5-ec10-48e6-98b8-aac104495817",
   "metadata": {},
   "outputs": [],
   "source": [
    "import pandas as pd\n",
    "import os"
   ]
  },
  {
   "cell_type": "markdown",
   "id": "1403bca1-772f-44aa-be50-b9362dd49b3c",
   "metadata": {},
   "source": [
    "### Load data"
   ]
  },
  {
   "cell_type": "code",
   "execution_count": 5,
   "id": "b5daaa48-f2c3-47c6-bf5b-fbea65755cfd",
   "metadata": {},
   "outputs": [],
   "source": [
    "data_folder = '../data/'\n",
    "vdh_filename = 'VDH.csv'\n",
    "vdh_path = os.path.join(data_folder, vdh_filename)\n",
    "vdh = pd.read_csv(vdh_path)"
   ]
  },
  {
   "cell_type": "code",
   "execution_count": 7,
   "id": "21cd4608-7f4d-491d-a5c5-2eee5c6e2d88",
   "metadata": {},
   "outputs": [
    {
     "data": {
      "text/html": [
       "<div>\n",
       "<style scoped>\n",
       "    .dataframe tbody tr th:only-of-type {\n",
       "        vertical-align: middle;\n",
       "    }\n",
       "\n",
       "    .dataframe tbody tr th {\n",
       "        vertical-align: top;\n",
       "    }\n",
       "\n",
       "    .dataframe thead th {\n",
       "        text-align: right;\n",
       "    }\n",
       "</style>\n",
       "<table border=\"1\" class=\"dataframe\">\n",
       "  <thead>\n",
       "    <tr style=\"text-align: right;\">\n",
       "      <th></th>\n",
       "      <th>Year of Death</th>\n",
       "      <th>Locality</th>\n",
       "      <th>Locality Name</th>\n",
       "      <th>Drug Class</th>\n",
       "      <th>Death Count</th>\n",
       "      <th>Death Rate</th>\n",
       "    </tr>\n",
       "  </thead>\n",
       "  <tbody>\n",
       "    <tr>\n",
       "      <th>0</th>\n",
       "      <td>2018</td>\n",
       "      <td>51590</td>\n",
       "      <td>Danville</td>\n",
       "      <td>All Drugs</td>\n",
       "      <td>8</td>\n",
       "      <td>19.66</td>\n",
       "    </tr>\n",
       "    <tr>\n",
       "      <th>1</th>\n",
       "      <td>2016</td>\n",
       "      <td>51007</td>\n",
       "      <td>Amelia</td>\n",
       "      <td>Any Opioids</td>\n",
       "      <td>*</td>\n",
       "      <td>*</td>\n",
       "    </tr>\n",
       "    <tr>\n",
       "      <th>2</th>\n",
       "      <td>2015</td>\n",
       "      <td>51115</td>\n",
       "      <td>Mathews</td>\n",
       "      <td>Rx N SS Methadone</td>\n",
       "      <td>0</td>\n",
       "      <td>0</td>\n",
       "    </tr>\n",
       "    <tr>\n",
       "      <th>3</th>\n",
       "      <td>2018</td>\n",
       "      <td>51790</td>\n",
       "      <td>Staunton</td>\n",
       "      <td>S Opioids No Methadone</td>\n",
       "      <td>*</td>\n",
       "      <td>*</td>\n",
       "    </tr>\n",
       "    <tr>\n",
       "      <th>4</th>\n",
       "      <td>2015</td>\n",
       "      <td>51830</td>\n",
       "      <td>Williamsburg</td>\n",
       "      <td>S Opioids No Methadone</td>\n",
       "      <td>0</td>\n",
       "      <td>0</td>\n",
       "    </tr>\n",
       "  </tbody>\n",
       "</table>\n",
       "</div>"
      ],
      "text/plain": [
       "   Year of Death  Locality Locality Name              Drug Class Death Count  \\\n",
       "0           2018     51590      Danville               All Drugs           8   \n",
       "1           2016     51007        Amelia             Any Opioids           *   \n",
       "2           2015     51115       Mathews       Rx N SS Methadone           0   \n",
       "3           2018     51790      Staunton  S Opioids No Methadone           *   \n",
       "4           2015     51830  Williamsburg  S Opioids No Methadone           0   \n",
       "\n",
       "  Death Rate  \n",
       "0      19.66  \n",
       "1          *  \n",
       "2          0  \n",
       "3          *  \n",
       "4          0  "
      ]
     },
     "execution_count": 7,
     "metadata": {},
     "output_type": "execute_result"
    }
   ],
   "source": [
    "vdh.head()"
   ]
  },
  {
   "cell_type": "markdown",
   "id": "a7fee3d3-39f4-40d9-afe2-0162014d60e3",
   "metadata": {},
   "source": [
    "### Verify data is available for each county/city and year"
   ]
  },
  {
   "cell_type": "code",
   "execution_count": 11,
   "id": "f7a7243b-4f7a-446e-8089-b6f5e666d612",
   "metadata": {},
   "outputs": [
    {
     "data": {
      "text/html": [
       "<div>\n",
       "<style scoped>\n",
       "    .dataframe tbody tr th:only-of-type {\n",
       "        vertical-align: middle;\n",
       "    }\n",
       "\n",
       "    .dataframe tbody tr th {\n",
       "        vertical-align: top;\n",
       "    }\n",
       "\n",
       "    .dataframe thead th {\n",
       "        text-align: right;\n",
       "    }\n",
       "</style>\n",
       "<table border=\"1\" class=\"dataframe\">\n",
       "  <thead>\n",
       "    <tr style=\"text-align: right;\">\n",
       "      <th></th>\n",
       "      <th>Year of Death</th>\n",
       "      <th>Locality</th>\n",
       "    </tr>\n",
       "  </thead>\n",
       "  <tbody>\n",
       "    <tr>\n",
       "      <th>count</th>\n",
       "      <td>532.000000</td>\n",
       "      <td>532.000000</td>\n",
       "    </tr>\n",
       "    <tr>\n",
       "      <th>mean</th>\n",
       "      <td>2016.500000</td>\n",
       "      <td>51263.992481</td>\n",
       "    </tr>\n",
       "    <tr>\n",
       "      <th>std</th>\n",
       "      <td>1.119086</td>\n",
       "      <td>271.113919</td>\n",
       "    </tr>\n",
       "    <tr>\n",
       "      <th>min</th>\n",
       "      <td>2015.000000</td>\n",
       "      <td>51001.000000</td>\n",
       "    </tr>\n",
       "    <tr>\n",
       "      <th>25%</th>\n",
       "      <td>2015.750000</td>\n",
       "      <td>51069.000000</td>\n",
       "    </tr>\n",
       "    <tr>\n",
       "      <th>50%</th>\n",
       "      <td>2016.500000</td>\n",
       "      <td>51139.000000</td>\n",
       "    </tr>\n",
       "    <tr>\n",
       "      <th>75%</th>\n",
       "      <td>2017.250000</td>\n",
       "      <td>51550.000000</td>\n",
       "    </tr>\n",
       "    <tr>\n",
       "      <th>max</th>\n",
       "      <td>2018.000000</td>\n",
       "      <td>51840.000000</td>\n",
       "    </tr>\n",
       "  </tbody>\n",
       "</table>\n",
       "</div>"
      ],
      "text/plain": [
       "       Year of Death      Locality\n",
       "count     532.000000    532.000000\n",
       "mean     2016.500000  51263.992481\n",
       "std         1.119086    271.113919\n",
       "min      2015.000000  51001.000000\n",
       "25%      2015.750000  51069.000000\n",
       "50%      2016.500000  51139.000000\n",
       "75%      2017.250000  51550.000000\n",
       "max      2018.000000  51840.000000"
      ]
     },
     "execution_count": 11,
     "metadata": {},
     "output_type": "execute_result"
    }
   ],
   "source": [
    "vdh[vdh['Drug Class'] == 'Any Opioids'].describe()"
   ]
  },
  {
   "cell_type": "markdown",
   "id": "9875578a-4424-416e-924a-6dc740242d54",
   "metadata": {},
   "source": [
    "There are 133 counties & cities in VA with 4 years of data for each locality, resulting in 532 data points overall."
   ]
  },
  {
   "cell_type": "code",
   "execution_count": null,
   "id": "17eb3cf8-704c-4ce5-a7c2-ccd9e950d16d",
   "metadata": {},
   "outputs": [],
   "source": []
  }
 ],
 "metadata": {
  "kernelspec": {
   "display_name": "Python 3 (ipykernel)",
   "language": "python",
   "name": "python3"
  },
  "language_info": {
   "codemirror_mode": {
    "name": "ipython",
    "version": 3
   },
   "file_extension": ".py",
   "mimetype": "text/x-python",
   "name": "python",
   "nbconvert_exporter": "python",
   "pygments_lexer": "ipython3",
   "version": "3.9.7"
  }
 },
 "nbformat": 4,
 "nbformat_minor": 5
}
